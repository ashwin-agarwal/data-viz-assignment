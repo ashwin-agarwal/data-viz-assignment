{
 "cells": [
  {
   "cell_type": "code",
   "execution_count": 1,
   "id": "velvet-vector",
   "metadata": {
    "ExecuteTime": {
     "end_time": "2021-05-29T15:36:04.071436Z",
     "start_time": "2021-05-29T15:36:02.982054Z"
    }
   },
   "outputs": [],
   "source": [
    "import pandas as pd\n",
    "import geopandas"
   ]
  },
  {
   "cell_type": "code",
   "execution_count": null,
   "id": "recovered-shelf",
   "metadata": {
    "ExecuteTime": {
     "end_time": "2021-05-27T15:16:31.965738Z",
     "start_time": "2021-05-27T15:16:31.897043Z"
    }
   },
   "outputs": [],
   "source": [
    "# world_map = geopandas.read_file('filtered_countries.geojson')\n",
    "# world_map.loc[world_map['name'].str.contains('France')].iloc[0,2]"
   ]
  },
  {
   "cell_type": "code",
   "execution_count": 2,
   "id": "empirical-difficulty",
   "metadata": {
    "ExecuteTime": {
     "end_time": "2021-05-29T15:36:22.242412Z",
     "start_time": "2021-05-29T15:36:04.073574Z"
    }
   },
   "outputs": [],
   "source": [
    "countries = {\n",
    "    'BR': {'country': 'BR', 'country_name': 'Brazil', 'latitude': -15.749997, 'longitude': -51.92528}, \n",
    "    'CA': {'country': 'CA', 'country_name': 'Canada', 'latitude': 56.130366, 'longitude': -106.346771},\n",
    "    'DE': {'country': 'DE', 'country_name': 'Germany', 'latitude': 51.165691, 'longitude': 10.451526},\n",
    "    'FR': {'country': 'FR', 'country_name': 'France', 'latitude': 46.227638, 'longitude': 2.213749},\n",
    "    'GB': {'country': 'GB', 'country_name': 'United Kingdom', 'latitude': 55.378051, 'longitude': -3.435973},\n",
    "    'IN': {'country': 'IN', 'country_name': 'India', 'latitude': 20.593684, 'longitude': 78.96288},\n",
    "    'JP': {'country': 'JP', 'country_name': 'Japan', 'latitude': 36.204824, 'longitude': 138.252924},\n",
    "    'KR': {'country': 'KR', 'country_name': 'South Korea', 'latitude': 35.907757, 'longitude': 127.766922},\n",
    "    'MX': {'country': 'MX', 'country_name': 'Mexico', 'latitude': 23.634501, 'longitude': -102.552784},\n",
    "    'RU': {'country': 'RU', 'country_name': 'Russia', 'latitude': 61.52401, 'longitude': 105.318756},\n",
    "    'US': {'country': 'US', 'country_name': 'USA', 'latitude': 37.09024, 'longitude': -95.712891}}\n",
    "\n",
    "countries_df = pd.DataFrame(countries.values())\n",
    "\n",
    "# countries_df.to_csv('countries.csv', index = False)\n",
    "\n",
    "# countries_df\n",
    "\n",
    "df = pd.read_csv('df_youtube_raw.csv')\n",
    "\n",
    "df = df.drop(columns = [df.columns[0], 'publish_time', 'video_id', 'thumbnail_link', \n",
    "                         'ratings_disabled', 'comments_disabled', 'description'])\n",
    "\n",
    "df = df.merge(countries_df, on='country')\n",
    "df = df.drop(columns = ['country'])\n",
    "\n",
    "df['views'] = pd.to_numeric(df['views'], downcast='integer')\n",
    "df['likes'] = pd.to_numeric(df['likes'], downcast='integer')\n",
    "df['dislikes'] = pd.to_numeric(df['dislikes'], downcast='integer')\n",
    "df['comment_count'] = pd.to_numeric(df['comment_count'], downcast='integer')\n",
    "# df['publish_time'] = pd.to_datetime(df['publish_time'], format='%Y-%m-%d %H:%M:%S')\n",
    "df['trending_date'] = pd.to_datetime(df['trending_date'], format='%Y-%m-%d')\n",
    "\n",
    "df = df.loc[df['trending_date'] > '2020-01-01'].dropna()\n",
    "\n",
    "def transformTags(x):\n",
    "    return \"|\".join(x.strip().replace('\"', '').replace('[None]', '').replace('[none]', '').lower().split('|'))\n",
    "\n",
    "df['tags'] = df['tags'].apply(transformTags)"
   ]
  },
  {
   "cell_type": "code",
   "execution_count": null,
   "id": "virtual-belly",
   "metadata": {
    "ExecuteTime": {
     "end_time": "2021-05-29T15:31:57.765107Z",
     "start_time": "2021-05-29T15:31:56.365146Z"
    }
   },
   "outputs": [],
   "source": []
  },
  {
   "cell_type": "code",
   "execution_count": 3,
   "id": "floating-software",
   "metadata": {
    "ExecuteTime": {
     "end_time": "2021-05-29T15:36:22.352794Z",
     "start_time": "2021-05-29T15:36:22.244801Z"
    }
   },
   "outputs": [
    {
     "data": {
      "text/html": [
       "<div>\n",
       "<style scoped>\n",
       "    .dataframe tbody tr th:only-of-type {\n",
       "        vertical-align: middle;\n",
       "    }\n",
       "\n",
       "    .dataframe tbody tr th {\n",
       "        vertical-align: top;\n",
       "    }\n",
       "\n",
       "    .dataframe thead th {\n",
       "        text-align: right;\n",
       "    }\n",
       "</style>\n",
       "<table border=\"1\" class=\"dataframe\">\n",
       "  <thead>\n",
       "    <tr style=\"text-align: right;\">\n",
       "      <th></th>\n",
       "      <th>country_name</th>\n",
       "      <th>latitude</th>\n",
       "      <th>longitude</th>\n",
       "      <th>value</th>\n",
       "    </tr>\n",
       "  </thead>\n",
       "  <tbody>\n",
       "    <tr>\n",
       "      <th>0</th>\n",
       "      <td>Brazil</td>\n",
       "      <td>-15.749997</td>\n",
       "      <td>-51.925280</td>\n",
       "      <td>46887</td>\n",
       "    </tr>\n",
       "    <tr>\n",
       "      <th>1</th>\n",
       "      <td>Canada</td>\n",
       "      <td>56.130366</td>\n",
       "      <td>-106.346771</td>\n",
       "      <td>46805</td>\n",
       "    </tr>\n",
       "    <tr>\n",
       "      <th>2</th>\n",
       "      <td>France</td>\n",
       "      <td>46.227638</td>\n",
       "      <td>2.213749</td>\n",
       "      <td>46814</td>\n",
       "    </tr>\n",
       "    <tr>\n",
       "      <th>3</th>\n",
       "      <td>Germany</td>\n",
       "      <td>51.165691</td>\n",
       "      <td>10.451526</td>\n",
       "      <td>46773</td>\n",
       "    </tr>\n",
       "    <tr>\n",
       "      <th>4</th>\n",
       "      <td>India</td>\n",
       "      <td>20.593684</td>\n",
       "      <td>78.962880</td>\n",
       "      <td>44048</td>\n",
       "    </tr>\n",
       "    <tr>\n",
       "      <th>5</th>\n",
       "      <td>Japan</td>\n",
       "      <td>36.204824</td>\n",
       "      <td>138.252924</td>\n",
       "      <td>46809</td>\n",
       "    </tr>\n",
       "    <tr>\n",
       "      <th>6</th>\n",
       "      <td>Mexico</td>\n",
       "      <td>23.634501</td>\n",
       "      <td>-102.552784</td>\n",
       "      <td>46674</td>\n",
       "    </tr>\n",
       "    <tr>\n",
       "      <th>7</th>\n",
       "      <td>Russia</td>\n",
       "      <td>61.524010</td>\n",
       "      <td>105.318756</td>\n",
       "      <td>45723</td>\n",
       "    </tr>\n",
       "    <tr>\n",
       "      <th>8</th>\n",
       "      <td>South Korea</td>\n",
       "      <td>35.907757</td>\n",
       "      <td>127.766922</td>\n",
       "      <td>43705</td>\n",
       "    </tr>\n",
       "    <tr>\n",
       "      <th>9</th>\n",
       "      <td>USA</td>\n",
       "      <td>37.090240</td>\n",
       "      <td>-95.712891</td>\n",
       "      <td>46908</td>\n",
       "    </tr>\n",
       "    <tr>\n",
       "      <th>10</th>\n",
       "      <td>United Kingdom</td>\n",
       "      <td>55.378051</td>\n",
       "      <td>-3.435973</td>\n",
       "      <td>46846</td>\n",
       "    </tr>\n",
       "  </tbody>\n",
       "</table>\n",
       "</div>"
      ],
      "text/plain": [
       "      country_name   latitude   longitude  value\n",
       "0           Brazil -15.749997  -51.925280  46887\n",
       "1           Canada  56.130366 -106.346771  46805\n",
       "2           France  46.227638    2.213749  46814\n",
       "3          Germany  51.165691   10.451526  46773\n",
       "4            India  20.593684   78.962880  44048\n",
       "5            Japan  36.204824  138.252924  46809\n",
       "6           Mexico  23.634501 -102.552784  46674\n",
       "7           Russia  61.524010  105.318756  45723\n",
       "8      South Korea  35.907757  127.766922  43705\n",
       "9              USA  37.090240  -95.712891  46908\n",
       "10  United Kingdom  55.378051   -3.435973  46846"
      ]
     },
     "execution_count": 3,
     "metadata": {},
     "output_type": "execute_result"
    }
   ],
   "source": [
    "bubble_map_data = df.groupby(['country_name', 'latitude', 'longitude']).agg({'title': 'count'}).rename(columns = {'title': 'value'})\n",
    "\n",
    "bubble_map_data.to_csv('bubble_map_data.csv', index = True)\n",
    "\n",
    "pd.read_csv('bubble_map_data.csv')"
   ]
  },
  {
   "cell_type": "code",
   "execution_count": 178,
   "id": "flying-competition",
   "metadata": {
    "ExecuteTime": {
     "end_time": "2021-05-29T18:17:59.936247Z",
     "start_time": "2021-05-29T18:17:59.765340Z"
    }
   },
   "outputs": [
    {
     "data": {
      "text/html": [
       "<div>\n",
       "<style scoped>\n",
       "    .dataframe tbody tr th:only-of-type {\n",
       "        vertical-align: middle;\n",
       "    }\n",
       "\n",
       "    .dataframe tbody tr th {\n",
       "        vertical-align: top;\n",
       "    }\n",
       "\n",
       "    .dataframe thead th {\n",
       "        text-align: right;\n",
       "    }\n",
       "</style>\n",
       "<table border=\"1\" class=\"dataframe\">\n",
       "  <thead>\n",
       "    <tr style=\"text-align: right;\">\n",
       "      <th></th>\n",
       "      <th></th>\n",
       "      <th>value</th>\n",
       "    </tr>\n",
       "    <tr>\n",
       "      <th>country_name</th>\n",
       "      <th>category_title</th>\n",
       "      <th></th>\n",
       "    </tr>\n",
       "  </thead>\n",
       "  <tbody>\n",
       "    <tr>\n",
       "      <th rowspan=\"10\" valign=\"top\">Brazil</th>\n",
       "      <th>Others</th>\n",
       "      <td>29.5</td>\n",
       "    </tr>\n",
       "    <tr>\n",
       "      <th>Music</th>\n",
       "      <td>25.8</td>\n",
       "    </tr>\n",
       "    <tr>\n",
       "      <th>Entertainment</th>\n",
       "      <td>25.5</td>\n",
       "    </tr>\n",
       "    <tr>\n",
       "      <th>Gaming</th>\n",
       "      <td>7.1</td>\n",
       "    </tr>\n",
       "    <tr>\n",
       "      <th>Comedy</th>\n",
       "      <td>4.8</td>\n",
       "    </tr>\n",
       "    <tr>\n",
       "      <th>Education</th>\n",
       "      <td>2.2</td>\n",
       "    </tr>\n",
       "    <tr>\n",
       "      <th>News &amp; Politics</th>\n",
       "      <td>2.1</td>\n",
       "    </tr>\n",
       "    <tr>\n",
       "      <th>Film &amp; Animation</th>\n",
       "      <td>1.1</td>\n",
       "    </tr>\n",
       "    <tr>\n",
       "      <th>Autos &amp; Vehicles</th>\n",
       "      <td>1.0</td>\n",
       "    </tr>\n",
       "    <tr>\n",
       "      <th>Howto &amp; Style</th>\n",
       "      <td>0.9</td>\n",
       "    </tr>\n",
       "  </tbody>\n",
       "</table>\n",
       "</div>"
      ],
      "text/plain": [
       "                               value\n",
       "country_name category_title         \n",
       "Brazil       Others             29.5\n",
       "             Music              25.8\n",
       "             Entertainment      25.5\n",
       "             Gaming              7.1\n",
       "             Comedy              4.8\n",
       "             Education           2.2\n",
       "             News & Politics     2.1\n",
       "             Film & Animation    1.1\n",
       "             Autos & Vehicles    1.0\n",
       "             Howto & Style       0.9"
      ]
     },
     "execution_count": 178,
     "metadata": {},
     "output_type": "execute_result"
    }
   ],
   "source": [
    "doughnut = df.groupby(['country_name', 'category_title']).agg({'title': 'count'}).rename(columns = {'title': 'count'}).reset_index()\n",
    "\n",
    "doughnut = doughnut.merge(bubble_map_data, on = 'country_name').rename(columns = {'value' : 'total'})\n",
    "\n",
    "doughnut['value'] = round(doughnut['count'] / doughnut['total'] * 100, 1)\n",
    "\n",
    "doughnut.index = doughnut['country_name']\n",
    "\n",
    "doughnut = doughnut.drop(columns = ['country_name', 'count', 'total'])\n",
    "\n",
    "doughnut_temp = df.groupby(['category_title']).agg({'title': 'count'}).rename(columns = {'title': 'value'}).reset_index()\n",
    "\n",
    "doughnut_temp['value'] = round(doughnut_temp['value'] / doughnut_temp.sum()['value'] * 100, 1)\n",
    "\n",
    "doughnut_temp.index = ['Overall'] * doughnut_temp.shape[0]\n",
    "\n",
    "doughnut_temp.index.name = 'country_name'\n",
    "\n",
    "doughnut = doughnut.append(doughnut_temp)\n",
    "\n",
    "main_list = []\n",
    "\n",
    "for i in doughnut.index.unique():    \n",
    "    as_list = doughnut.loc[i]['category_title'].tolist()\n",
    "    as_list[9-doughnut.loc[i].shape[0]:] = ['Others'] * (doughnut.loc[i].shape[0] - 9)\n",
    "    main_list += as_list\n",
    "\n",
    "    \n",
    "doughnut['category_title'] = main_list\n",
    "\n",
    "doughnut = doughnut.groupby(['country_name', 'category_title']).sum().round(1).sort_values(['country_name', 'value'], ascending = [True, False])\n",
    "\n",
    "doughnut.to_csv('doughnut.csv', index = True)\n",
    "\n",
    "pd.read_csv('doughnut.csv')\n",
    "\n",
    "doughnut.head(10)"
   ]
  },
  {
   "cell_type": "code",
   "execution_count": 171,
   "id": "brown-essay",
   "metadata": {
    "ExecuteTime": {
     "end_time": "2021-05-29T17:59:45.428524Z",
     "start_time": "2021-05-29T17:59:45.426569Z"
    }
   },
   "outputs": [],
   "source": [
    "# doughnut_1 = df.groupby(['category_title']).agg({'title': 'count'}).rename(columns = {'title': 'count'})\n",
    "# doughnut_1['value'] = round(doughnut_1['count'] / doughnut_1.sum()['count'] * 100, 1)\n",
    "# doughnut_1 = doughnut_1.sort_values('value', ascending=False)\n",
    "\n",
    "# as_list = doughnut_1.index.tolist()\n",
    "# as_list[-6:] = ['Others'] * 6\n",
    "# doughnut_1.index = as_list\n",
    "\n",
    "# doughnut_1.index.name = 'category_title'\n",
    "# doughnut_1 = doughnut_1.groupby(['category_title']).sum().sort_values('value', ascending = False)\n",
    "# doughnut_1 = doughnut_1.drop('Others').append(doughnut_1.loc['Others', ])\n",
    "\n",
    "# doughnut_1['value'].to_csv('doughnut_1.csv', index = True)\n",
    "\n",
    "# pd.read_csv('doughnut_1.csv')"
   ]
  },
  {
   "cell_type": "code",
   "execution_count": null,
   "id": "amateur-contact",
   "metadata": {
    "ExecuteTime": {
     "end_time": "2021-05-29T15:46:18.661866Z",
     "start_time": "2021-05-29T15:46:18.657728Z"
    }
   },
   "outputs": [],
   "source": []
  },
  {
   "cell_type": "code",
   "execution_count": null,
   "id": "boring-generation",
   "metadata": {
    "ExecuteTime": {
     "end_time": "2021-05-29T14:44:15.858377Z",
     "start_time": "2021-05-29T14:44:15.836132Z"
    }
   },
   "outputs": [],
   "source": []
  },
  {
   "cell_type": "code",
   "execution_count": null,
   "id": "after-privacy",
   "metadata": {
    "ExecuteTime": {
     "end_time": "2021-05-29T15:27:18.992837Z",
     "start_time": "2021-05-29T15:27:18.919925Z"
    }
   },
   "outputs": [],
   "source": []
  },
  {
   "cell_type": "code",
   "execution_count": null,
   "id": "played-belief",
   "metadata": {
    "ExecuteTime": {
     "end_time": "2021-05-29T15:27:04.179933Z",
     "start_time": "2021-05-29T15:27:04.168907Z"
    }
   },
   "outputs": [],
   "source": []
  },
  {
   "cell_type": "code",
   "execution_count": null,
   "id": "asian-check",
   "metadata": {},
   "outputs": [],
   "source": []
  },
  {
   "cell_type": "code",
   "execution_count": null,
   "id": "extreme-color",
   "metadata": {},
   "outputs": [],
   "source": []
  },
  {
   "cell_type": "code",
   "execution_count": null,
   "id": "smart-swift",
   "metadata": {
    "ExecuteTime": {
     "end_time": "2021-05-26T08:57:09.926846Z",
     "start_time": "2021-05-26T08:57:08.325534Z"
    }
   },
   "outputs": [],
   "source": [
    "def expand(x):\n",
    "    return x\n",
    "\n",
    "arr = list(df.loc[df['country_name'] == 'Germany']['tags'].apply(expand))\n",
    "all_tags = [item.lower() for a in arr for item in a]\n",
    "\n",
    "df_alltags = pd.DataFrame(all_tags).rename(columns = {0: 'tags'})\n",
    "all_tags_count = pd.DataFrame(df_alltags.value_counts())"
   ]
  },
  {
   "cell_type": "code",
   "execution_count": null,
   "id": "hired-stake",
   "metadata": {
    "ExecuteTime": {
     "end_time": "2021-05-26T08:57:10.506431Z",
     "start_time": "2021-05-26T08:57:10.497658Z"
    }
   },
   "outputs": [],
   "source": [
    "all_tags_count.head(40)\n",
    "\n",
    "# all_tags_count.filter(like = 'none', axis = 0)\n",
    "\n",
    "# df.filter(like = 'index to keep', axis=0)"
   ]
  }
 ],
 "metadata": {
  "kernelspec": {
   "display_name": "Python 3",
   "language": "python",
   "name": "python3"
  },
  "language_info": {
   "codemirror_mode": {
    "name": "ipython",
    "version": 3
   },
   "file_extension": ".py",
   "mimetype": "text/x-python",
   "name": "python",
   "nbconvert_exporter": "python",
   "pygments_lexer": "ipython3",
   "version": "3.7.10"
  }
 },
 "nbformat": 4,
 "nbformat_minor": 5
}
