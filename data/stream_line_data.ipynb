{
 "cells": [
  {
   "cell_type": "code",
   "execution_count": 1,
   "id": "celtic-viking",
   "metadata": {
    "ExecuteTime": {
     "end_time": "2021-05-26T09:11:42.622813Z",
     "start_time": "2021-05-26T09:11:41.746868Z"
    }
   },
   "outputs": [],
   "source": [
    "import pandas as pd"
   ]
  },
  {
   "cell_type": "code",
   "execution_count": 2,
   "id": "ambient-burst",
   "metadata": {
    "ExecuteTime": {
     "end_time": "2021-05-26T09:12:00.976089Z",
     "start_time": "2021-05-26T09:11:43.705309Z"
    }
   },
   "outputs": [],
   "source": [
    "df = pd.read_csv('df_youtube_raw.csv')\n",
    "\n",
    "df = df.drop(columns = [df.columns[0], 'video_id', 'thumbnail_link', \n",
    "                         'ratings_disabled', 'comments_disabled', 'description'])\n",
    "\n",
    "countries = {'BR': 'Brazil', 'CA': 'Canada', 'DE': 'Germany', 'FR': 'France',\n",
    "            'GB': 'Great Britain', 'IN': 'India', 'JP': 'Japan', 'KR': 'Korea', \n",
    "             'MX': 'Mexico', 'RU': 'Russia', 'US': 'United States'}\n",
    "\n",
    "countries_df = pd.DataFrame(countries.items())\n",
    "countries_df = countries_df.rename(columns = {0: 'country', 1: 'country_name'})"
   ]
  },
  {
   "cell_type": "code",
   "execution_count": 3,
   "id": "graphic-memory",
   "metadata": {
    "ExecuteTime": {
     "end_time": "2021-05-26T09:12:07.961202Z",
     "start_time": "2021-05-26T09:12:06.708260Z"
    }
   },
   "outputs": [],
   "source": [
    "df = df.merge(countries_df, on='country')\n",
    "df = df.drop(columns = ['country'])\n",
    "\n",
    "df['views'] = pd.to_numeric(df['views'], downcast='integer')\n",
    "df['likes'] = pd.to_numeric(df['likes'], downcast='integer')\n",
    "df['dislikes'] = pd.to_numeric(df['dislikes'], downcast='integer')\n",
    "df['comment_count'] = pd.to_numeric(df['comment_count'], downcast='integer')\n",
    "df['publish_time'] = pd.to_datetime(df['publish_time'], format='%Y-%m-%d %H:%M:%S')\n",
    "df['trending_date'] = pd.to_datetime(df['trending_date'], format='%Y-%m-%d')"
   ]
  },
  {
   "cell_type": "code",
   "execution_count": 5,
   "id": "weird-hanging",
   "metadata": {
    "ExecuteTime": {
     "end_time": "2021-05-26T09:13:18.251831Z",
     "start_time": "2021-05-26T09:13:14.727496Z"
    }
   },
   "outputs": [],
   "source": [
    "def transformTags(x):\n",
    "    return \"|\".join(x.strip().replace('\"', '').replace('[None]', '').replace('[none]', '').lower().split('|'))\n",
    "\n",
    "df['tags'] = df['tags'].apply(transformTags)"
   ]
  },
  {
   "cell_type": "code",
   "execution_count": 6,
   "id": "reduced-parliament",
   "metadata": {
    "ExecuteTime": {
     "end_time": "2021-05-26T09:13:19.135845Z",
     "start_time": "2021-05-26T09:13:19.091704Z"
    }
   },
   "outputs": [
    {
     "data": {
      "text/html": [
       "<div>\n",
       "<style scoped>\n",
       "    .dataframe tbody tr th:only-of-type {\n",
       "        vertical-align: middle;\n",
       "    }\n",
       "\n",
       "    .dataframe tbody tr th {\n",
       "        vertical-align: top;\n",
       "    }\n",
       "\n",
       "    .dataframe thead th {\n",
       "        text-align: right;\n",
       "    }\n",
       "</style>\n",
       "<table border=\"1\" class=\"dataframe\">\n",
       "  <thead>\n",
       "    <tr style=\"text-align: right;\">\n",
       "      <th></th>\n",
       "      <th>title</th>\n",
       "      <th>publish_time</th>\n",
       "      <th>channel_title</th>\n",
       "      <th>trending_date</th>\n",
       "      <th>tags</th>\n",
       "      <th>views</th>\n",
       "      <th>likes</th>\n",
       "      <th>dislikes</th>\n",
       "      <th>comment_count</th>\n",
       "      <th>category_title</th>\n",
       "      <th>country_name</th>\n",
       "    </tr>\n",
       "  </thead>\n",
       "  <tbody>\n",
       "    <tr>\n",
       "      <th>0</th>\n",
       "      <td>Ferrugem - Casa do Amor (Clipe Oficial)</td>\n",
       "      <td>2020-11-13 15:02:12</td>\n",
       "      <td>Ferrugem Oficial</td>\n",
       "      <td>2020-11-14</td>\n",
       "      <td></td>\n",
       "      <td>505194</td>\n",
       "      <td>16042</td>\n",
       "      <td>108</td>\n",
       "      <td>570</td>\n",
       "      <td>Film &amp; Animation</td>\n",
       "      <td>Brazil</td>\n",
       "    </tr>\n",
       "    <tr>\n",
       "      <th>1</th>\n",
       "      <td>8 COISAS QUE ROLAM NA AULA ONLINE (Animação)</td>\n",
       "      <td>2020-11-25 21:18:47</td>\n",
       "      <td>aNIMA Lima</td>\n",
       "      <td>2020-11-26</td>\n",
       "      <td>animalima|animação|desenho|animado|flash|escol...</td>\n",
       "      <td>100750</td>\n",
       "      <td>18986</td>\n",
       "      <td>134</td>\n",
       "      <td>1511</td>\n",
       "      <td>Film &amp; Animation</td>\n",
       "      <td>Brazil</td>\n",
       "    </tr>\n",
       "    <tr>\n",
       "      <th>2</th>\n",
       "      <td>Disney and Pixar's Luca | Teaser Trailer</td>\n",
       "      <td>2021-02-25 14:00:16</td>\n",
       "      <td>Pixar</td>\n",
       "      <td>2021-03-03</td>\n",
       "      <td>pixar|disney|disney pixar|pixar movie|animatio...</td>\n",
       "      <td>4855626</td>\n",
       "      <td>105694</td>\n",
       "      <td>2414</td>\n",
       "      <td>8649</td>\n",
       "      <td>Film &amp; Animation</td>\n",
       "      <td>Brazil</td>\n",
       "    </tr>\n",
       "    <tr>\n",
       "      <th>3</th>\n",
       "      <td>Mulher-Maravilha 1984 - Trailer Oficial Principal</td>\n",
       "      <td>2020-08-22 17:25:55</td>\n",
       "      <td>Warner Bros. Pictures Brasil</td>\n",
       "      <td>2020-08-25</td>\n",
       "      <td>mulher-maravilha|mulher-maravilha 1984|wonder ...</td>\n",
       "      <td>547752</td>\n",
       "      <td>25299</td>\n",
       "      <td>334</td>\n",
       "      <td>1042</td>\n",
       "      <td>Film &amp; Animation</td>\n",
       "      <td>Brazil</td>\n",
       "    </tr>\n",
       "    <tr>\n",
       "      <th>4</th>\n",
       "      <td>The Witch - Animation vs. Minecraft Shorts Ep 21</td>\n",
       "      <td>2021-02-06 12:00:01</td>\n",
       "      <td>Alan Becker</td>\n",
       "      <td>2021-02-09</td>\n",
       "      <td></td>\n",
       "      <td>7146081</td>\n",
       "      <td>372395</td>\n",
       "      <td>4906</td>\n",
       "      <td>34566</td>\n",
       "      <td>Film &amp; Animation</td>\n",
       "      <td>Brazil</td>\n",
       "    </tr>\n",
       "  </tbody>\n",
       "</table>\n",
       "</div>"
      ],
      "text/plain": [
       "                                               title        publish_time  \\\n",
       "0            Ferrugem - Casa do Amor (Clipe Oficial) 2020-11-13 15:02:12   \n",
       "1       8 COISAS QUE ROLAM NA AULA ONLINE (Animação) 2020-11-25 21:18:47   \n",
       "2           Disney and Pixar's Luca | Teaser Trailer 2021-02-25 14:00:16   \n",
       "3  Mulher-Maravilha 1984 - Trailer Oficial Principal 2020-08-22 17:25:55   \n",
       "4   The Witch - Animation vs. Minecraft Shorts Ep 21 2021-02-06 12:00:01   \n",
       "\n",
       "                  channel_title trending_date  \\\n",
       "0              Ferrugem Oficial    2020-11-14   \n",
       "1                    aNIMA Lima    2020-11-26   \n",
       "2                         Pixar    2021-03-03   \n",
       "3  Warner Bros. Pictures Brasil    2020-08-25   \n",
       "4                   Alan Becker    2021-02-09   \n",
       "\n",
       "                                                tags    views   likes  \\\n",
       "0                                                      505194   16042   \n",
       "1  animalima|animação|desenho|animado|flash|escol...   100750   18986   \n",
       "2  pixar|disney|disney pixar|pixar movie|animatio...  4855626  105694   \n",
       "3  mulher-maravilha|mulher-maravilha 1984|wonder ...   547752   25299   \n",
       "4                                                     7146081  372395   \n",
       "\n",
       "   dislikes  comment_count    category_title country_name  \n",
       "0       108            570  Film & Animation       Brazil  \n",
       "1       134           1511  Film & Animation       Brazil  \n",
       "2      2414           8649  Film & Animation       Brazil  \n",
       "3       334           1042  Film & Animation       Brazil  \n",
       "4      4906          34566  Film & Animation       Brazil  "
      ]
     },
     "execution_count": 6,
     "metadata": {},
     "output_type": "execute_result"
    }
   ],
   "source": [
    "df.head()"
   ]
  },
  {
   "cell_type": "code",
   "execution_count": 7,
   "id": "incorporate-gothic",
   "metadata": {
    "ExecuteTime": {
     "end_time": "2021-05-26T09:14:07.182614Z",
     "start_time": "2021-05-26T09:13:52.530049Z"
    }
   },
   "outputs": [],
   "source": [
    "df.to_csv('youtube_clean_data.csv', index = False)"
   ]
  },
  {
   "cell_type": "code",
   "execution_count": null,
   "id": "internal-strengthening",
   "metadata": {
    "ExecuteTime": {
     "end_time": "2021-05-26T09:04:24.781399Z",
     "start_time": "2021-05-26T09:04:24.482391Z"
    }
   },
   "outputs": [],
   "source": []
  },
  {
   "cell_type": "code",
   "execution_count": null,
   "id": "immediate-liberal",
   "metadata": {},
   "outputs": [],
   "source": []
  },
  {
   "cell_type": "code",
   "execution_count": null,
   "id": "configured-transcript",
   "metadata": {
    "ExecuteTime": {
     "end_time": "2021-05-26T08:57:09.926846Z",
     "start_time": "2021-05-26T08:57:08.325534Z"
    }
   },
   "outputs": [],
   "source": [
    "def expand(x):\n",
    "    return x\n",
    "\n",
    "arr = list(df.loc[df['country_name'] == 'Germany']['tags'].apply(expand))\n",
    "all_tags = [item.lower() for a in arr for item in a]\n",
    "\n",
    "df_alltags = pd.DataFrame(all_tags).rename(columns = {0: 'tags'})\n",
    "all_tags_count = pd.DataFrame(df_alltags.value_counts())"
   ]
  },
  {
   "cell_type": "code",
   "execution_count": null,
   "id": "coordinate-convert",
   "metadata": {
    "ExecuteTime": {
     "end_time": "2021-05-26T08:57:10.506431Z",
     "start_time": "2021-05-26T08:57:10.497658Z"
    }
   },
   "outputs": [],
   "source": [
    "all_tags_count.head(40)\n",
    "\n",
    "# all_tags_count.filter(like = 'none', axis = 0)\n",
    "\n",
    "# df.filter(like = 'index to keep', axis=0)"
   ]
  }
 ],
 "metadata": {
  "kernelspec": {
   "display_name": "Python 3",
   "language": "python",
   "name": "python3"
  },
  "language_info": {
   "codemirror_mode": {
    "name": "ipython",
    "version": 3
   },
   "file_extension": ".py",
   "mimetype": "text/x-python",
   "name": "python",
   "nbconvert_exporter": "python",
   "pygments_lexer": "ipython3",
   "version": "3.7.10"
  }
 },
 "nbformat": 4,
 "nbformat_minor": 5
}
